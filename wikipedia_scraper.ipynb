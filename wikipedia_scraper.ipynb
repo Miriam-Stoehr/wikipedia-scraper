{
 "cells": [
  {
   "cell_type": "markdown",
   "metadata": {
    "id": "rru15J6cT0aF"
   },
   "source": [
    "# Your first scraper\n",
    "In this project, we will guide you step by step through the process of:\n",
    "\n",
    "1. creating a self-contained development environment.\n",
    "1. retrieving some information from an API (a website for computers)\n",
    "2. leveraging it to scrape a website that does not provide an API\n",
    "3. saving the output for later processing\n",
    "\n",
    "Here we query an API for a list of countries and their past leaders. We then extract and sanitize their short bio from Wikipedia. Finally, we save the data to disk.\n",
    "\n",
    "This task is often the first (coding) step of a datascience project and you will often come back to it in the future.\n",
    "\n",
    "You will study topics such as *scraping*, *data structures*, *regular expressions*, *concurrency* and *file handling*. We will point out useful resources at the appropriate time. \n",
    "\n",
    "Let's dive in!"
   ]
  },
  {
   "attachments": {},
   "cell_type": "markdown",
   "metadata": {},
   "source": [
    "## Creating a clean environment\n",
    "\n",
    "Use the [`venv`](https://docs.python.org/3/library/venv.html) command to create a new environment called `wikipedia_scraper_env`.\n",
    "\n",
    "Activate it.\n",
    "\n",
    "You will find more info about virtual environments in the course content and on the web."
   ]
  },
  {
   "cell_type": "markdown",
   "metadata": {
    "id": "48qvKH56a1Wy"
   },
   "source": [
    "## API Scraping\n",
    "\n",
    "### A simple API query\n",
    "You will start with the basics: how to do a simple request to an [API endpoint](../../2.python/2.python_advanced/05.Scraping/5.apis.ipynb).\n",
    "\n",
    "You will use the [requests](https://requests.readthedocs.io/en/latest/) external library through the `import` keyword.\n",
    "\n",
    "NOTE: external libraries need to be installed first. Check their documentation.\n",
    "\n",
    "Check the [Quickstart](https://requests.readthedocs.io/en/latest/user/quickstart/) section of the Requests documentation to:\n",
    "1. use the `get()` method to connect to this endpoint: https://country-leaders.onrender.com/status\n",
    "2. check if the `status_code` is equal to 200, which means OK.\n",
    "    * if OK, `print()` the `text`` of the response.\n",
    "    * if not, `print()` the `status_code`. \n",
    "\n",
    "Here is the signification of [HTTP status codes](https://en.wikipedia.org/wiki/List_of_HTTP_status_codes).\n"
   ]
  },
  {
   "cell_type": "code",
   "execution_count": 331,
   "metadata": {
    "id": "9baoMWgIcK3E"
   },
   "outputs": [
    {
     "name": "stdout",
     "output_type": "stream",
     "text": [
      "b'\"Alive\"'\n"
     ]
    }
   ],
   "source": [
    "# import the requests library (1 line)\n",
    "import requests\n",
    "# assign the root url (without /status) to the root_url variable for ease of reference (1 line)\n",
    "root_url = \"https://country-leaders.onrender.com\"\n",
    "# assign the /status endpoint to another variable called status_url (1 line)\n",
    "status_url = root_url + \"/status\"\n",
    "# query the /status endpoint using the get() method and store it in the req variable (1 line)\n",
    "req = requests.get(status_url)\n",
    "# check the status_code using a condition and print appropriate messages (4 lines)\n",
    "if req.status_code == 200:\n",
    "    print(req.content)\n",
    "else:\n",
    "    print(req.status_code)"
   ]
  },
  {
   "cell_type": "markdown",
   "metadata": {
    "id": "TL72ovJUcZTA"
   },
   "source": [
    "### Dealing with JSON\n",
    "\n",
    "[JSON](https://quickref.me/json) is the preferred format to deal with data over the web. You cannot avoid it so you would better get acquainted.\n",
    "\n",
    "Connect to another endpoint called `/countries` but this time the API will return data in the JSON format. Check what to do in the Requests [Quickstart](https://requests.readthedocs.io/en/latest/user/quickstart/).\n"
   ]
  },
  {
   "cell_type": "code",
   "execution_count": 332,
   "metadata": {
    "id": "Y0DLiYCWcg5W"
   },
   "outputs": [
    {
     "name": "stdout",
     "output_type": "stream",
     "text": [
      "403\n",
      "{'message': 'The cookie is missing'}\n"
     ]
    }
   ],
   "source": [
    "# Set the countries_url variable (1 line)\n",
    "countries_url = root_url + \"/countries\"\n",
    "# query the /countries endpoint using the get() method and store it in the req variable (1 line)\n",
    "req = requests.get(countries_url)\n",
    "# Get the JSON content and store it in the countries variable (1 line)\n",
    "countries = req.json()\n",
    "# display the request's status code and the countries variable (1 line)\n",
    "print(req.status_code)\n",
    "print(countries)"
   ]
  },
  {
   "cell_type": "markdown",
   "metadata": {
    "id": "1x25JA6vaRBi"
   },
   "source": [
    "### Cookies anyone?\n",
    "\n",
    "It looks like the access to this API is restricted...\n",
    "Query the `/cookie` endpoint and extract the appropriate field to access your cookie.\n",
    "\n",
    "You will need to use this cookie in each of the following API requests."
   ]
  },
  {
   "cell_type": "code",
   "execution_count": 333,
   "metadata": {
    "id": "dTDwpN9Q3nk_"
   },
   "outputs": [
    {
     "name": "stdout",
     "output_type": "stream",
     "text": [
      "<RequestsCookieJar[<Cookie user_cookie=d116f1ff-89ad-427c-bcb7-0b1e0c71b3d4 for country-leaders.onrender.com/>]>\n"
     ]
    }
   ],
   "source": [
    "# Set the cookie_url variable (1 line)\n",
    "cookie_url = root_url + \"/cookie\"\n",
    "# Query the endpoint, set the cookies variable and display it (2 lines)\n",
    "cookies = requests.get(cookie_url).cookies\n",
    "print(cookies)"
   ]
  },
  {
   "cell_type": "markdown",
   "metadata": {
    "id": "DHBNaFJo2M9e"
   },
   "source": [
    "Try to query the countries endpoint using the cookie, save the output and print it."
   ]
  },
  {
   "cell_type": "code",
   "execution_count": 334,
   "metadata": {
    "id": "9Y63sTXY7ppT"
   },
   "outputs": [
    {
     "name": "stdout",
     "output_type": "stream",
     "text": [
      "['us', 'be', 'ma', 'ru', 'fr']\n"
     ]
    }
   ],
   "source": [
    "# query the /countries endpoint, assign the output to the countries variable (1 line)\n",
    "countries = requests.get(countries_url, cookies=cookies).json()\n",
    "# display the countries variable (1 line)\n",
    "print(countries)"
   ]
  },
  {
   "cell_type": "markdown",
   "metadata": {
    "id": "I3HmuGTT9lU1"
   },
   "source": [
    "Chances are the cookie has expired... Thanksfully, you got a nice error message. For now, simply execute the last 2 cells quickly so you get a result."
   ]
  },
  {
   "cell_type": "markdown",
   "metadata": {
    "id": "Egv40GBV8rSH"
   },
   "source": [
    "### Getting the actual data from the API\n",
    "\n",
    "Query the `/leaders` endpoint."
   ]
  },
  {
   "cell_type": "code",
   "execution_count": 335,
   "metadata": {
    "id": "ZwLFqcBA8PaD"
   },
   "outputs": [
    {
     "name": "stdout",
     "output_type": "stream",
     "text": [
      "b'{\"message\":\"Please specify a country\"}'\n"
     ]
    }
   ],
   "source": [
    "# Set the leaders_url variable (1 line)\n",
    "leaders_url = root_url + \"/leaders\"\n",
    "# query the /leaders endpoint, assign the output to the leaders variable (1 line)\n",
    "leaders = requests.get(leaders_url, cookies=cookies)\n",
    "# display the leaders variable (1 line)\n",
    "print(leaders.content)"
   ]
  },
  {
   "cell_type": "markdown",
   "metadata": {
    "id": "1QyM7vWBAlY4"
   },
   "source": [
    "It looks like this endpoint requires additional information in order to return its result. Check the API [*documentation*](https://country-leaders.onrender.com/docs) in your web browser.\n",
    "\n",
    "Change the query to accept *parameters*. You should know where to find help by now."
   ]
  },
  {
   "cell_type": "code",
   "execution_count": null,
   "metadata": {
    "id": "gIEFBhBeAkzf"
   },
   "outputs": [],
   "source": [
    "# query the /leaders endpoint using cookies and parameters (take any country in countries)\n",
    "# assign the output to the leaders variable (1 line)\n",
    "leaders = requests.get(leaders_url, cookies=cookies, params={\"country\":\"be\"}).json()\n",
    "# display the leaders variable (1 line)\n",
    "print(leaders)"
   ]
  },
  {
   "attachments": {},
   "cell_type": "markdown",
   "metadata": {
    "id": "uW3k5uquCirA"
   },
   "source": [
    "### A sneak peak at the data (finally)\n",
    "\n",
    "Look inside a few examples. Notice the dictionary keys available for each entry. You have your first example of *structured data*. This data was sanitized for your benefit, meaning it is readily exploitable without modification.\n",
    "\n",
    "You will also notice there is a Wikipedia link for each entry. You will need to extract additional information there. This will be a case of *semi-structured* data.\n",
    "\n",
    "The /countries endpoint returns a `list` of several country codes.\n",
    "\n",
    "You need to loop through this list and query the /leaders endpoint for each one. Save each `json` result in a dictionary called `leaders_per_country`."
   ]
  },
  {
   "cell_type": "code",
   "execution_count": null,
   "metadata": {
    "id": "H8EdK2S9rvPJ"
   },
   "outputs": [],
   "source": [
    "# 4 lines\n",
    "\n",
    "# Initialize dict\n",
    "leaders_per_country = {}\n",
    "# Loop through 'countries' list\n",
    "for country in countries:\n",
    "    # Query the /leaders endpoint for each country + \n",
    "    # Save each json result in dict 'leaders_per_country'\n",
    "    leaders_per_country[country] = requests.get(leaders_url, cookies=cookies, params={\"country\": country}).json()\n",
    "\n",
    "print(leaders_per_country)"
   ]
  },
  {
   "cell_type": "code",
   "execution_count": null,
   "metadata": {},
   "outputs": [],
   "source": [
    "# or 1 line\n",
    "leaders_per_country = {\n",
    "    country: requests.get(leaders_url, cookies=cookies, params={\"country\": country}).json() for country in countries\n",
    "}\n",
    "    \n",
    "print(leaders_per_country)"
   ]
  },
  {
   "cell_type": "markdown",
   "metadata": {
    "id": "WsA2j7s_RMgy"
   },
   "source": [
    "It is finally time to create a `get_leaders()` function for the above code. You will build on it later-on. This function takes no parameter. Inside it, you will need to:\n",
    "1. define the urls\n",
    "2. get the cookies\n",
    "2. get the countries\n",
    "3. loop over them and save their leaders in a dictionary\n",
    "4. return the dictionary"
   ]
  },
  {
   "cell_type": "code",
   "execution_count": null,
   "metadata": {
    "id": "p6C7BgWQMxV2"
   },
   "outputs": [],
   "source": [
    "# < 15 lines\n",
    "def get_leaders() -> dict:\n",
    "    \"\"\"\n",
    "    Gets data of leaders of countries retrieved from \"https://country-leaders.onrender.com\"\n",
    "\n",
    "    Args: None\n",
    "\n",
    "    Returns:\n",
    "        dict: Dictionary of countries (abbreviations) and their respective leaders' information\n",
    "\n",
    "    \"\"\"\n",
    "    # Define URLs\n",
    "    root_url = \"https://country-leaders.onrender.com\"\n",
    "    countries_url = root_url + \"/countries\"\n",
    "    cookie_url = root_url + \"/cookie\"\n",
    "    leaders_url = root_url + \"/leaders\"\n",
    "    # Get Cookies\n",
    "    cookies = requests.get(cookie_url).cookies\n",
    "    # Get Countries\n",
    "    countries = requests.get(countries_url, cookies=cookies).json()\n",
    "    # Loop over countries and save their leaders' data in a dictionary\n",
    "    leaders_per_country = {\n",
    "    country: requests.get(leaders_url, cookies=cookies, params={\"country\": country}).json() for country in countries\n",
    "    }\n",
    "    # Return the dictionary\n",
    "    return leaders_per_country"
   ]
  },
  {
   "cell_type": "markdown",
   "metadata": {
    "id": "I76-InoKuuV8"
   },
   "source": [
    "Test your function, save the result in the `leaders_per_country` dictionary and check its ouput."
   ]
  },
  {
   "cell_type": "code",
   "execution_count": null,
   "metadata": {
    "id": "eXwd8o7Gu8yG"
   },
   "outputs": [],
   "source": [
    "# 2 lines\n",
    "leaders_per_country = get_leaders()\n",
    "print(leaders_per_country)"
   ]
  },
  {
   "cell_type": "markdown",
   "metadata": {
    "id": "D1Fc1mHySn9g"
   },
   "source": [
    "## Extracting data from Wikipedia\n",
    "\n",
    "Query one of the leaders' Wikipedia urls and display its `text` (not JSON)."
   ]
  },
  {
   "cell_type": "code",
   "execution_count": null,
   "metadata": {
    "id": "cEKKqyTHr3fD"
   },
   "outputs": [],
   "source": [
    "# 3 lines\n",
    "\n",
    "# Get wiki url of first leader of first country\n",
    "wiki_url_us1 = leaders_per_country[\"us\"][0][\"wikipedia_url\"]\n",
    "# Query url\n",
    "text = requests.get(wiki_url_us1)\n",
    "# Display its text\n",
    "print(text.text)"
   ]
  },
  {
   "cell_type": "code",
   "execution_count": null,
   "metadata": {},
   "outputs": [],
   "source": [
    "print(wiki_url)"
   ]
  },
  {
   "cell_type": "markdown",
   "metadata": {},
   "source": [
    "#### (Creating list of wiki urls.)"
   ]
  },
  {
   "cell_type": "code",
   "execution_count": null,
   "metadata": {},
   "outputs": [],
   "source": [
    "# Get cookies\n",
    "cookies = requests.get(cookie_url).cookies\n",
    "# Get list of countries\n",
    "countries = requests.get(countries_url, cookies=cookies).json()\n",
    "# Iterate through dictionary and get list of wikipedia_urls\n",
    "wiki_urls = []\n",
    "for country in countries:\n",
    "    # Iterate through dict values (one list per country) -> through dicts per leader\n",
    "    for dict in leaders_per_country[country]:\n",
    "        wiki_urls.append(dict[\"wikipedia_url\"])\n",
    "\n",
    "print(wiki_urls)"
   ]
  },
  {
   "attachments": {},
   "cell_type": "markdown",
   "metadata": {
    "id": "ZlsqjiTYr8sK"
   },
   "source": [
    "Ouch! You get the raw HTML code of the webpage. If you try to deal with it without tools, you will be there all night. Instead, use the [beautiful soup 4](https://www.crummy.com/software/BeautifulSoup/bs4/doc/) *external* library. You will find more info about it [here](../../2.python/2.python_advanced/05.Scraping/1.beautifulsoup_basic.ipynb) and [here](../../2.python/2.python_advanced/05.Scraping/2.beautifulsoup_advanced.ipynb)\n",
    "\n",
    "Using the Quickstart section, start by importing the library and loading the output of your `get_text()` function.\n",
    "\n",
    "Use the `prettify()` function and print it to take a look. You will start the actual parsing in the next step."
   ]
  },
  {
   "cell_type": "code",
   "execution_count": null,
   "metadata": {
    "id": "h79ahwJvr7p-"
   },
   "outputs": [],
   "source": [
    "from bs4 import BeautifulSoup\n",
    "\n",
    "# 3 lines\n",
    "r = requests.get(wiki_url_us1)\n",
    "soup = BeautifulSoup(r.content, \"html\")\n",
    "text_content = soup.get_text()\n",
    "\n",
    "print(soup.prettify())"
   ]
  },
  {
   "cell_type": "markdown",
   "metadata": {
    "id": "aQsLjaig7_dY"
   },
   "source": [
    "That looks better but you need to extract the right part of the webpage: the text of the first paragraph.\n",
    "\n",
    "It is a bit tricky because Wikipedia pages slightly differ in structure from one language to the next. We cannot simply get the text for the first HTML paragraph.\n",
    "\n",
    "You will start by getting all the HTML paragraphs from the HTML source and saving them in the `paragraphs` variable.\n",
    "\n",
    "Use the documentation or google the appropriate keywords."
   ]
  },
  {
   "cell_type": "code",
   "execution_count": null,
   "metadata": {
    "id": "Vs8HeBx19oyC"
   },
   "outputs": [],
   "source": [
    "# 2 lines\n",
    "paragraphs = [tag for tag in soup.find_all(\"p\")]\n",
    "paragraphs[1]"
   ]
  },
  {
   "cell_type": "markdown",
   "metadata": {},
   "source": [
    "##### Comparison: Wiki page where the first paragraph does not have index 1"
   ]
  },
  {
   "cell_type": "code",
   "execution_count": null,
   "metadata": {},
   "outputs": [],
   "source": [
    "wiki_url_fr = leaders_per_country[\"fr\"][0][\"wikipedia_url\"]\n",
    "r2 = requests.get(wiki_url_fr)\n",
    "soup2 = BeautifulSoup(r2.content, \"html\")\n",
    "paragraphs2 = [tag.text for tag in soup2.find_all(\"p\")]\n",
    "print(paragraphs2[3])"
   ]
  },
  {
   "cell_type": "markdown",
   "metadata": {
    "id": "3tlaL3aM9zoo"
   },
   "source": [
    "If you try different urls, you might find that the paragraph you want may be at a different index each time.\n",
    "\n",
    "That is where you need to be clever and ask yourself what would be a reliable way to identify the right index ie. which string matches only the first paragraph whatever the language...\n",
    "\n",
    "Spend a good 30 minutes on the problem and brainstorm with your fellow learners. If you come out empty handed, ask your coach.\n",
    "\n",
    "1. Loop over the HTML paragraphs\n",
    "2. When you have identified the correct one\n",
    "  * store the [text](https://www.crummy.com/software/BeautifulSoup/bs4/doc/#output) inside the `first_paragraph` variable\n",
    "  * exit the loop"
   ]
  },
  {
   "cell_type": "code",
   "execution_count": null,
   "metadata": {
    "id": "0DduDXaQALau"
   },
   "outputs": [],
   "source": [
    "# <10 lines\n",
    "\n",
    "# The right paragraph in the list is the only one with <b> \n",
    "# Get index of paragraph -> next = 'nearest'\n",
    "par_index = next(\n",
    "    (i for i, tag in enumerate(paragraphs) if tag.find(\"b\") is not None),\n",
    "    None\n",
    ")\n",
    "# Get the text of the paragraph at this index\n",
    "first_paragraph = paragraphs[par_index].text\n",
    "first_paragraph"
   ]
  },
  {
   "cell_type": "markdown",
   "metadata": {
    "id": "KFe-1LlIHBGm"
   },
   "source": [
    "At this stage, you can create a function to maintain consistency in your code. We will give you its *skeleton*, you will copy the code you wrote and make it work inside a function.\n",
    "\n",
    "Don't forget to test your function."
   ]
  },
  {
   "cell_type": "code",
   "execution_count": null,
   "metadata": {
    "id": "wQORoweDHARO"
   },
   "outputs": [],
   "source": [
    "# 10 lines\n",
    "\n",
    "def get_first_paragraph(wikipedia_url):\n",
    "    print(wikipedia_url)                                                       # keep this for the rest of the notebook\n",
    "    req = requests.get(wikipedia_url)\n",
    "    soup = BeautifulSoup(req.content, \"html\")\n",
    "    paragraphs = [tag for tag in soup.find_all(\"p\")]\n",
    "    par_index = next(\n",
    "        (i for i, tag in enumerate(paragraphs) if tag.find(\"b\") is not None),\n",
    "        None\n",
    "    )\n",
    "    return paragraphs[par_index].text"
   ]
  },
  {
   "cell_type": "code",
   "execution_count": null,
   "metadata": {},
   "outputs": [],
   "source": [
    "# Test: 3 lines\n",
    "first_par_us_1 = get_first_paragraph(\"https://en.wikipedia.org/wiki/George_Washington\")\n",
    "print(first_par_us_1)"
   ]
  },
  {
   "cell_type": "code",
   "execution_count": null,
   "metadata": {},
   "outputs": [
    {
     "name": "stdout",
     "output_type": "stream",
     "text": [
      "https://fr.wikipedia.org/wiki/Fran%C3%A7ois_Hollande\n",
      "François Hollande [fʁɑ̃swa ɔlɑ̃d][n 3] Écouter, né le 12 août 1954 à Rouen (Seine-Inférieure), est un haut fonctionnaire et homme d'État français. Il est président de la République française du 15 mai 2012 au 14 mai 2017.\n",
      "\n"
     ]
    }
   ],
   "source": [
    "# Test 2\n",
    "first_par_fr_1 = get_first_paragraph(wiki_url_fr)\n",
    "print(first_par_fr_1)"
   ]
  },
  {
   "cell_type": "markdown",
   "metadata": {},
   "source": [
    "#### (Get first paragraph for all leaders)"
   ]
  },
  {
   "cell_type": "code",
   "execution_count": null,
   "metadata": {},
   "outputs": [],
   "source": [
    "first_paragraphs = []\n",
    "\n",
    "for url in wiki_urls:\n",
    "    first_paragraphs.append(get_first_paragraph(url))\n",
    "\n",
    "print(first_paragraphs)"
   ]
  },
  {
   "cell_type": "markdown",
   "metadata": {
    "id": "UtoM4dgsBVoD"
   },
   "source": [
    "### Regular expressions to the rescue\n",
    "\n",
    "Now that you have extracted the content of the first paragraph, the only thing that remains to finish your Wikipedia scraper is to sanitize the output.\n",
    "\n",
    "Indeed some Wikipedia references, HTML code, phonetic pronunciation etc. may linger. You might find *regular expressions* handy to get rid of them and obtain pristine text. You will find some useful documentation about regular expressions [here](../../2.python/2.python_advanced/03.Regex/regex.ipynb)\n",
    "\n",
    "Once you have one of your regex working online, try it in the cell below. \n",
    "\n",
    "Hints: \n",
    "* Check the `sub()` method documentation.\n",
    "* Make sure to test urls in different languages. Some may look good but other do not."
   ]
  },
  {
   "cell_type": "code",
   "execution_count": null,
   "metadata": {
    "id": "7DHEAb6oBUxd"
   },
   "outputs": [
    {
     "name": "stdout",
     "output_type": "stream",
     "text": [
      "François Hollande, né le 12 août 1954 à Rouen (Seine-Inférieure), est un haut fonctionnaire et homme d'État français. Il est président de la République française du 15 mai 2012 au 14 mai 2017.\n"
     ]
    }
   ],
   "source": [
    "# 3 lines\n",
    "import re\n",
    "def clean_paragraph(text):\n",
    "    # Remove specific unwanted patterns:\n",
    "    cleaned_text = re.sub(\n",
    "        r'\\[.*?\\]'                # Content within square brackets\n",
    "        r'|/[^/]+/;?'             # Content between slashes with optional trailing semicolon\n",
    "        r'|(?:\\b(?:Écouter|uitspraak)\\b;?)'  # Remove \"Écouter\" and \"uitspraak\" optionally followed by \";\"\n",
    "        r'|;\\s*$',                # Standalone semicolon at the end of the text or line\n",
    "        '', \n",
    "        text\n",
    "    )\n",
    "    # Remove remaining ⓘ\n",
    "    cleaned_text = re.sub(r'ⓘ', '', cleaned_text)\n",
    "\n",
    "    # Normalize spaces around punctuation and parentheses\n",
    "    cleaned_text = re.sub(r'\\(\\s+', '(', cleaned_text)  # Remove space after opening parentheses\n",
    "    cleaned_text = re.sub(r'\\s+', ' ', cleaned_text).strip()  # Normalize whitespace\n",
    "    \n",
    "    # Remove any empty parentheses and space before commas at the end\n",
    "    cleaned_text = re.sub(r'\\(\\s*\\)', '', cleaned_text)  # Empty parentheses like \"()\" or \"( )\"\n",
    "    cleaned_text = re.sub(r'\\s+,', ',', cleaned_text)  # Remove spaces before commas\n",
    "    cleaned_text = re.sub(r'\\(\\s*;\\s*', '(', cleaned_text)  # Specifically remove \"; \" in parentheses\n",
    "    \n",
    "    return cleaned_text\n",
    "\n",
    "print(clean_paragraph(first_par_fr_1))"
   ]
  },
  {
   "cell_type": "code",
   "execution_count": null,
   "metadata": {},
   "outputs": [],
   "source": [
    "for par in first_paragraphs:\n",
    "    print(clean_paragraph(par))\n",
    "    print()"
   ]
  },
  {
   "cell_type": "markdown",
   "metadata": {
    "id": "QekqWs-4E0bK"
   },
   "source": [
    "Overwrite the `get_first_paragraph()` function by applying your regex to the first paragraph before returning it."
   ]
  },
  {
   "cell_type": "code",
   "execution_count": 309,
   "metadata": {
    "id": "voT-jzd7FMOc"
   },
   "outputs": [],
   "source": [
    "# 10 lines\n",
    "def get_first_paragraph(wikipedia_url):\n",
    "    # print(wikipedia_url)                      #Keep this for the rest of the notebook\n",
    "    req = requests.get(wikipedia_url)\n",
    "    soup = BeautifulSoup(req.content, \"html\")\n",
    "    paragraphs = [tag for tag in soup.find_all(\"p\")]\n",
    "    par_index = next(\n",
    "        (i for i, tag in enumerate(paragraphs) if tag.find(\"b\") is not None),\n",
    "        None\n",
    "    )\n",
    "    # Clean paragraph\n",
    "    cleaned_paragraph = clean_paragraph(paragraphs[par_index].text)\n",
    "    return cleaned_paragraph"
   ]
  },
  {
   "cell_type": "code",
   "execution_count": null,
   "metadata": {},
   "outputs": [],
   "source": [
    "# Test updated get_first_paragraph function\n",
    "for url in wiki_urls:\n",
    "    print(get_first_paragraph(url))\n",
    "    print()"
   ]
  },
  {
   "cell_type": "markdown",
   "metadata": {
    "id": "gyZkffTEFR0z"
   },
   "source": [
    "Come up with other regexes to capture other patterns and sanitize the outputs completely. Modify your `get_first_paragraph()` function accordingly."
   ]
  },
  {
   "cell_type": "code",
   "execution_count": null,
   "metadata": {
    "id": "NOmkLM9JFRCp"
   },
   "outputs": [],
   "source": [
    "# < 20 lines\n"
   ]
  },
  {
   "cell_type": "markdown",
   "metadata": {
    "id": "VY7bM7Z1Nr0K"
   },
   "source": [
    "## Putting it all together\n",
    "\n",
    "Let's go back to your `get_leaders()` function and update it with an *inner* loop over each leader. You will query the url provided and extract the first paragraph using the `get_first_paragraph()` function you just finished. You will then update that `leader`'s dictionary and move on to the next one.\n",
    "\n",
    "Notice, the rest of the code should not change since you modify the leader's data one by one."
   ]
  },
  {
   "cell_type": "code",
   "execution_count": null,
   "metadata": {},
   "outputs": [],
   "source": [
    "# < 20 lines\n",
    "def get_leaders() -> dict:\n",
    "    \"\"\"\n",
    "    Gets data of country leaders retrieved from \"https://country-leaders.onrender.com\",\n",
    "    accesses wiki page, gets and cleans first paragraph.\n",
    "\n",
    "    Args: None\n",
    "\n",
    "    Returns:\n",
    "        dict: Dictionary of countries and information on their respective leaders incl. first paragraph of wikipedia article.\n",
    "    \"\"\"\n",
    "    # Define URLs\n",
    "    root_url = \"https://country-leaders.onrender.com\"\n",
    "    countries_url = root_url + \"/countries\"\n",
    "    cookie_url = root_url + \"/cookie\"\n",
    "    leaders_url = root_url + \"/leaders\"\n",
    "    # Get Cookies\n",
    "    cookies = requests.get(cookie_url).cookies\n",
    "    # Get Countries\n",
    "    countries = requests.get(countries_url, cookies=cookies).json()\n",
    "    # Initialize dictionary\n",
    "    leaders_per_country = {}\n",
    "    # Outer loop: Iterate over countries\n",
    "    for country in countries:\n",
    "        # Get leaders' data and add to dict\n",
    "        leaders_per_country[country] = requests.get(leaders_url, cookies=cookies, params={\"country\": country}).json()\n",
    "        # Inner loop: Iterate over leaders\n",
    "        for leader_dict in leaders_per_country[country]:\n",
    "            # Get wiki url\n",
    "            wiki_url = leader_dict[\"wikipedia_url\"]\n",
    "            # Get and clean first paragraph\n",
    "            first_paragraph = get_first_paragraph(wiki_url)\n",
    "            # Add paragraph to leaders dictionary\n",
    "            leader_dict[\"wiki_paragraph\"] = first_paragraph\n",
    "    \n",
    "    return leaders_per_country"
   ]
  },
  {
   "cell_type": "code",
   "execution_count": 340,
   "metadata": {
    "id": "RICG4T3DPZ1b"
   },
   "outputs": [
    {
     "name": "stdout",
     "output_type": "stream",
     "text": [
      "Paragraph added.\n",
      "Paragraph added.\n",
      "Paragraph added.\n",
      "Paragraph added.\n",
      "Paragraph added.\n",
      "Paragraph added.\n",
      "Paragraph added.\n",
      "Paragraph added.\n",
      "Paragraph added.\n",
      "Paragraph added.\n",
      "Paragraph added.\n",
      "Paragraph added.\n",
      "Paragraph added.\n",
      "Paragraph added.\n",
      "Paragraph added.\n",
      "Paragraph added.\n",
      "Paragraph added.\n",
      "Paragraph added.\n",
      "Paragraph added.\n",
      "Paragraph added.\n",
      "Paragraph added.\n",
      "Paragraph added.\n",
      "Paragraph added.\n",
      "Paragraph added.\n",
      "Paragraph added.\n",
      "Paragraph added.\n",
      "Paragraph added.\n",
      "Paragraph added.\n",
      "Paragraph added.\n",
      "Paragraph added.\n",
      "Paragraph added.\n",
      "Paragraph added.\n",
      "Paragraph added.\n",
      "Paragraph added.\n",
      "Paragraph added.\n",
      "Paragraph added.\n",
      "Paragraph added.\n",
      "Paragraph added.\n",
      "Error fetching leaders for us: 403, Response: {\"message\":\"The cookie is expired\"}\n",
      "Paragraph added.\n",
      "Error fetching leaders for us: 403, Response: {\"message\":\"The cookie is expired\"}\n",
      "Paragraph added.\n",
      "Error fetching leaders for us: 403, Response: {\"message\":\"The cookie is expired\"}\n",
      "Paragraph added.\n",
      "Error fetching leaders for us: 403, Response: {\"message\":\"The cookie is expired\"}\n",
      "Paragraph added.\n",
      "Error fetching leaders for us: 403, Response: {\"message\":\"The cookie is expired\"}\n",
      "Paragraph added.\n",
      "Error fetching leaders for us: 403, Response: {\"message\":\"The cookie is expired\"}\n",
      "Paragraph added.\n",
      "Error fetching leaders for us: 403, Response: {\"message\":\"The cookie is expired\"}\n",
      "Paragraph added.\n",
      "Error fetching leaders for be: 403, Response: {\"message\":\"The cookie is expired\"}\n"
     ]
    },
    {
     "ename": "TypeError",
     "evalue": "string indices must be integers, not 'str'",
     "output_type": "error",
     "traceback": [
      "\u001b[1;31m---------------------------------------------------------------------------\u001b[0m",
      "\u001b[1;31mTypeError\u001b[0m                                 Traceback (most recent call last)",
      "Cell \u001b[1;32mIn[340], line 2\u001b[0m\n\u001b[0;32m      1\u001b[0m \u001b[38;5;66;03m# Check the output of your function (2 lines)\u001b[39;00m\n\u001b[1;32m----> 2\u001b[0m leaders_per_country \u001b[38;5;241m=\u001b[39m \u001b[43mget_leaders\u001b[49m\u001b[43m(\u001b[49m\u001b[43m)\u001b[49m\n\u001b[0;32m      3\u001b[0m \u001b[38;5;28mprint\u001b[39m(leaders_per_country)\n",
      "Cell \u001b[1;32mIn[339], line 33\u001b[0m, in \u001b[0;36mget_leaders\u001b[1;34m()\u001b[0m\n\u001b[0;32m     31\u001b[0m     \u001b[38;5;28mprint\u001b[39m(\u001b[38;5;124mf\u001b[39m\u001b[38;5;124m\"\u001b[39m\u001b[38;5;124mError fetching leaders for \u001b[39m\u001b[38;5;132;01m{\u001b[39;00mcountry\u001b[38;5;132;01m}\u001b[39;00m\u001b[38;5;124m: \u001b[39m\u001b[38;5;132;01m{\u001b[39;00mresponse\u001b[38;5;241m.\u001b[39mstatus_code\u001b[38;5;132;01m}\u001b[39;00m\u001b[38;5;124m, Response: \u001b[39m\u001b[38;5;132;01m{\u001b[39;00mresponse\u001b[38;5;241m.\u001b[39mtext\u001b[38;5;132;01m}\u001b[39;00m\u001b[38;5;124m\"\u001b[39m)\n\u001b[0;32m     32\u001b[0m \u001b[38;5;66;03m# Get wiki url\u001b[39;00m\n\u001b[1;32m---> 33\u001b[0m wiki_url \u001b[38;5;241m=\u001b[39m \u001b[43mleader_dict\u001b[49m\u001b[43m[\u001b[49m\u001b[38;5;124;43m\"\u001b[39;49m\u001b[38;5;124;43mwikipedia_url\u001b[39;49m\u001b[38;5;124;43m\"\u001b[39;49m\u001b[43m]\u001b[49m\n\u001b[0;32m     34\u001b[0m \u001b[38;5;66;03m# Get and clean first paragraph\u001b[39;00m\n\u001b[0;32m     35\u001b[0m first_paragraph \u001b[38;5;241m=\u001b[39m get_first_paragraph(wiki_url)\n",
      "\u001b[1;31mTypeError\u001b[0m: string indices must be integers, not 'str'"
     ]
    }
   ],
   "source": [
    "# Check the output of your function (2 lines)\n",
    "leaders_per_country = get_leaders()\n",
    "print(leaders_per_country)"
   ]
  },
  {
   "attachments": {},
   "cell_type": "markdown",
   "metadata": {
    "id": "8sCKxGrnJCxv"
   },
   "source": [
    "Does the function crash in the middle of the loop? Chances are the cookies have expired while looping over the leaders.\n",
    "\n",
    "Modify your function with an *exception* or check if the `status_code` is a cookie error. In either case, get new cookies and query the api again.\n",
    "\n",
    "If your code did not crash,"
   ]
  },
  {
   "cell_type": "code",
   "execution_count": 351,
   "metadata": {
    "id": "rgPd2dxgJiW1"
   },
   "outputs": [],
   "source": [
    "# < 25 lines\n",
    "def get_leaders() -> dict:\n",
    "    \"\"\"\n",
    "    Gets data of country leaders retrieved from \"https://country-leaders.onrender.com\",\n",
    "    accesses wiki page, gets and cleans first paragraph.\n",
    "\n",
    "    Args: None\n",
    "\n",
    "    Returns:\n",
    "        dict: Dictionary of countries and information on their respective leaders incl. first paragraph of wikipedia article.\n",
    "    \"\"\"\n",
    "    # Define URLs\n",
    "    root_url = \"https://country-leaders.onrender.com\"\n",
    "    countries_url = root_url + \"/countries\"\n",
    "    cookie_url = root_url + \"/cookie\"\n",
    "    leaders_url = root_url + \"/leaders\"\n",
    "    # Get Cookies\n",
    "    cookies = requests.get(cookie_url).cookies\n",
    "    # Get Countries\n",
    "    countries = requests.get(countries_url, cookies=cookies).json()\n",
    "    # Initialize dictionary\n",
    "    leaders_per_country = {}\n",
    "    # Outer loop: Iterate over countries\n",
    "    for country in countries:\n",
    "\n",
    "        # Check, if the cookies are expired (response code 403)\n",
    "        response = requests.get(leaders_url, cookies=cookies, params={\"country\":country})\n",
    "        if response.status_code != 200:\n",
    "            # Refresh cookies\n",
    "            cookies = requests.get(cookie_url).cookies\n",
    "            # Renew request\n",
    "            leaders_per_country[country] = requests.get(leaders_url, cookies=cookies, params={\"country\": country}).json()\n",
    "        else:\n",
    "            # Use response data: Get leaders' data and add to dict\n",
    "            leaders_per_country[country] = response.json()\n",
    "\n",
    "        # Inner loop: Iterate over leaders\n",
    "        for leader_dict in leaders_per_country[country]:\n",
    "            # Get wiki url\n",
    "            wiki_url = leader_dict[\"wikipedia_url\"]\n",
    "            # Get and clean first paragraph\n",
    "            first_paragraph = get_first_paragraph(wiki_url)\n",
    "            # Add paragraph to leaders dictionary\n",
    "            leader_dict[\"wiki_paragraph\"] = first_paragraph\n",
    "    \n",
    "    return leaders_per_country\n"
   ]
  },
  {
   "cell_type": "markdown",
   "metadata": {
    "id": "3JvV-kPsKLl0"
   },
   "source": [
    "Check the output of your function again."
   ]
  },
  {
   "cell_type": "code",
   "execution_count": null,
   "metadata": {
    "id": "mPXT-cxgKQof"
   },
   "outputs": [],
   "source": [
    "# Check the output of your function (1 line)\n",
    "leaders_per_country = get_leaders()\n",
    "print(leaders_per_country)"
   ]
  },
  {
   "cell_type": "markdown",
   "metadata": {
    "id": "Y9lgxh_NMSO3"
   },
   "source": [
    "Well done! It took a while however... Let's speed things up. The main *bottleneck* is the loop. We call on the Wikipedia website many times.\n",
    "\n",
    "You will use the same *session* to call all the wikipedia pages. Check the *Advanced Usage* section of the Requests module's documentation.\n",
    "\n",
    "Start by modifying the `get_first_paragraph()` function to accept a session parameter and adjust the `get()` method call."
   ]
  },
  {
   "cell_type": "code",
   "execution_count": null,
   "metadata": {
    "id": "XTEVLIJ-V7z1"
   },
   "outputs": [],
   "source": [
    "# < 20 lines\n"
   ]
  },
  {
   "cell_type": "markdown",
   "metadata": {
    "id": "3gcgHMkeWK5-"
   },
   "source": [
    "Modify your `get_leaders()` function to make use of a single session for all the Wikipedia calls.\n",
    "1. create a `Session` object outside of the loop over countries.\n",
    "2. pass it to the `get_first_paragraph()` function as an argument."
   ]
  },
  {
   "cell_type": "code",
   "execution_count": null,
   "metadata": {
    "id": "Kt6JtKDpOAIe"
   },
   "outputs": [],
   "source": [
    "# <25 lines\n"
   ]
  },
  {
   "cell_type": "markdown",
   "metadata": {
    "id": "fy09nMG9VOaI"
   },
   "source": [
    "Test your new functions.\n",
    "\n"
   ]
  },
  {
   "cell_type": "code",
   "execution_count": null,
   "metadata": {
    "id": "p5wFE6ivRf-Z"
   },
   "outputs": [],
   "source": []
  },
  {
   "attachments": {},
   "cell_type": "markdown",
   "metadata": {
    "id": "LtLTvw3wPqe0"
   },
   "source": [
    "## Saving your hard work\n",
    "\n",
    "The final step is to save the ``leaders_per_country`` dictionary in the `leaders.json` file using the [json](https://docs.python.org/3/library/json.html) module. Check out the `with` statement."
   ]
  },
  {
   "cell_type": "code",
   "execution_count": null,
   "metadata": {
    "id": "pTNGKKrOjNDk"
   },
   "outputs": [],
   "source": [
    "# 3 lines\n"
   ]
  },
  {
   "attachments": {},
   "cell_type": "markdown",
   "metadata": {
    "id": "v7uf_kfGCWmM"
   },
   "source": [
    "Make sure the file can be read back. Write the code to read the file. And check the variables are the same."
   ]
  },
  {
   "cell_type": "code",
   "execution_count": null,
   "metadata": {
    "id": "4VwNjBYyjPzs"
   },
   "outputs": [],
   "source": [
    "# 3 lines\n"
   ]
  },
  {
   "cell_type": "markdown",
   "metadata": {
    "id": "1fW_U7gXktyv"
   },
   "source": [
    "Make a function `save(leaders_per_country)` to call this code easily."
   ]
  },
  {
   "cell_type": "code",
   "execution_count": null,
   "metadata": {
    "id": "EfknpnTljqUd"
   },
   "outputs": [],
   "source": [
    "# 3 lines\n"
   ]
  },
  {
   "cell_type": "code",
   "execution_count": null,
   "metadata": {
    "id": "lWQ6bbn31cix"
   },
   "outputs": [],
   "source": [
    "# Call the function (1 line)\n"
   ]
  },
  {
   "cell_type": "markdown",
   "metadata": {
    "id": "W5W6nPihlQo9"
   },
   "source": [
    "## Tidy things up in a stand-alone python script\n",
    "\n",
    "Congratulations! You now have a working scraper! However, your code is scattered throughout this notebook along side the tutorials. Hardly production ready...\n",
    "\n",
    "Copy and paste what you need in a separate `leaders_scraper.py` file.\n",
    "Make sure it works by calling `python3 leaders_scraper.py`"
   ]
  },
  {
   "cell_type": "markdown",
   "metadata": {
    "id": "D0cvv193mlxY"
   },
   "source": [
    "## To go further\n",
    "\n",
    "If you want to practice scraping, you can read this section and tackle the exercise.\n",
    "\n",
    "You have noticed the API returns very partial results for country leaders. Many are missing. Overwrite the `get_leaders()` function to get its list from Wikipedia and extract their *personal details* from the frame on the side.\n",
    "\n",
    "Good luck!"
   ]
  }
 ],
 "metadata": {
  "colab": {
   "collapsed_sections": [],
   "provenance": [],
   "toc_visible": true
  },
  "kernelspec": {
   "display_name": "Python 3",
   "language": "python",
   "name": "python3"
  },
  "language_info": {
   "codemirror_mode": {
    "name": "ipython",
    "version": 3
   },
   "file_extension": ".py",
   "mimetype": "text/x-python",
   "name": "python",
   "nbconvert_exporter": "python",
   "pygments_lexer": "ipython3",
   "version": "3.13.0"
  }
 },
 "nbformat": 4,
 "nbformat_minor": 0
}
